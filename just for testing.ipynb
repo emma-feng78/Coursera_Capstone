{
 "cells": [
  {
   "cell_type": "markdown",
   "metadata": {},
   "source": [
    "# The Battle of Neighborhoods"
   ]
  },
  {
   "cell_type": "markdown",
   "metadata": {},
   "source": [
    "## 1. Introduction"
   ]
  },
  {
   "cell_type": "markdown",
   "metadata": {},
   "source": [
    "Perth is the capital and largest city of the Australian state of Western Australian. Perth is one of the most successful diverse cities in the world, because of which, a rich variety of cuisines from different backgrounds has been adopted and developed. For example, even in a small neighborhood, you can find many different types of restaurants- Chinese, Italian, Indian, Mexican, Thai, Japanese……you name it! If you are passionate with business in food industry, like opening a restaurant, you might have to accept a reality- the competition is quite tough. \n",
    "\n",
    "One of our clients, Mr. Romano who is an immigrant from Italy, has great passion in opening an Italian restaurant in Perth city center. But there are already so many restaurants in the city. Where is the best location to open an Italian restaurant? \n",
    "\n",
    "In order to help Mr. Romano with the solution, we will use data science power to generate some promising neighborhoods. And then, he can choose one of them as the best location for business value. The locations we are looking for have to meet at least three criteria- as close to city center as possible, not already crowded with restaurants and without Italian restaurants in vicinity. \n"
   ]
  },
  {
   "cell_type": "markdown",
   "metadata": {},
   "source": [
    "## 2. Data"
   ]
  },
  {
   "cell_type": "markdown",
   "metadata": {},
   "source": [
    "Based on the definition of the problem, factors that might impact our decision are:\n",
    "    \n",
    "•\tNumber of the existing restaurants in the neighborhood\n",
    "\n",
    "•\tNumber of the existing Italian restaurants in the neighborhood\n",
    "\n",
    "•\tDistance of the neighborhood from the city center \n",
    "\n",
    "Following data sources will be needed to extract the required information:\n",
    "    \n",
    "•\tCenters of hexagon neighborhoods will be generated algorithmically and approximate address of centers of those areas will be obtained\n",
    "using ‘geopy.geocoders’\n",
    "•\tRestaurants data including number, type and location in every neighbohood will be obtained using Foursquare API\n",
    "\n",
    "•\tCoordinate of Perth center will be obtained using ‘geopy.geocoders’\n"
   ]
  },
  {
   "cell_type": "code",
   "execution_count": null,
   "metadata": {},
   "outputs": [],
   "source": []
  },
  {
   "cell_type": "markdown",
   "metadata": {},
   "source": []
  },
  {
   "cell_type": "code",
   "execution_count": null,
   "metadata": {},
   "outputs": [],
   "source": []
  }
 ],
 "metadata": {
  "kernelspec": {
   "display_name": "Python",
   "language": "python",
   "name": "conda-env-python-py"
  },
  "language_info": {
   "codemirror_mode": {
    "name": "ipython",
    "version": 3
   },
   "file_extension": ".py",
   "mimetype": "text/x-python",
   "name": "python",
   "nbconvert_exporter": "python",
   "pygments_lexer": "ipython3",
   "version": "3.6.12"
  }
 },
 "nbformat": 4,
 "nbformat_minor": 4
}
